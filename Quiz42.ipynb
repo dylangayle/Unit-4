{
  "nbformat": 4,
  "nbformat_minor": 0,
  "metadata": {
    "colab": {
      "name": "Quiz42.ipynb",
      "provenance": [],
      "authorship_tag": "ABX9TyPqXjcMGodeIyQIAEQMTRo1",
      "include_colab_link": true
    },
    "kernelspec": {
      "name": "python3",
      "display_name": "Python 3"
    },
    "language_info": {
      "name": "python"
    }
  },
  "cells": [
    {
      "cell_type": "markdown",
      "metadata": {
        "id": "view-in-github",
        "colab_type": "text"
      },
      "source": [
        "<a href=\"https://colab.research.google.com/github/dylangayle/Unit-4/blob/main/Quiz42.ipynb\" target=\"_parent\"><img src=\"https://colab.research.google.com/assets/colab-badge.svg\" alt=\"Open In Colab\"/></a>"
      ]
    },
    {
      "cell_type": "code",
      "metadata": {
        "colab": {
          "base_uri": "https://localhost:8080/"
        },
        "id": "ys4WHu8erNK6",
        "outputId": "60f9e594-71da-4c41-a1cd-a2c62adbc5af"
      },
      "source": [
        "def scientific_notation (number):\n",
        "  str_number = str(number)\n",
        "  length = len (str_number)\n",
        "  output  = f\"{str_number[0]}.{str_number[1]}{str_number[2]}*1e{length-1}\"\n",
        "  return (output)\n",
        "\n",
        "print(scientific_notation(132000))\n",
        "print(scientific_notation(1520000))\n",
        "print(scientific_notation(100))\n"
      ],
      "execution_count": 1,
      "outputs": [
        {
          "output_type": "stream",
          "text": [
            "1.32*1e5\n",
            "1.52*1e6\n",
            "1.00*1e2\n"
          ],
          "name": "stdout"
        }
      ]
    }
  ]
}